{
 "cells": [
  {
   "cell_type": "markdown",
   "id": "4d01353f-e70c-427e-9985-d71ec10f645a",
   "metadata": {},
   "source": [
    "# Authenticate"
   ]
  },
  {
   "cell_type": "code",
   "execution_count": null,
   "id": "f3a051b7-2edc-4aeb-b9c0-a99cbd4624f9",
   "metadata": {},
   "outputs": [],
   "source": [
    "from google_auth_oauthlib import flow\n",
    "\n",
    "# The `launch_browser` boolean variable indicates if a local server is used\n",
    "# as the callback URL in the auth flow. A value of `True` is recommended,\n",
    "# but a local server does not work if accessing the application remotely,\n",
    "# such as over SSH or from a remote Jupyter notebook.\n",
    "\n",
    "appflow = flow.InstalledAppFlow.from_client_secrets_file(\n",
    "    \"credentials.json\",\n",
    "    scopes=[\"https://www.googleapis.com/auth/bigquery\"],\n",
    ")\n",
    "\n",
    "launch_browser = True\n",
    "\n",
    "if launch_browser:\n",
    "    appflow.run_local_server()\n",
    "else:\n",
    "    appflow.run_console()\n",
    "\n",
    "credentials = appflow.credentials"
   ]
  },
  {
   "cell_type": "code",
   "execution_count": null,
   "id": "b6812c58-33cc-4357-9424-f240ef931999",
   "metadata": {},
   "outputs": [],
   "source": [
    "from datetime import date"
   ]
  },
  {
   "cell_type": "markdown",
   "id": "efc170cb-591f-4ddc-ab6b-9f7dc39552e7",
   "metadata": {},
   "source": [
    "## Client creation"
   ]
  },
  {
   "cell_type": "code",
   "execution_count": null,
   "id": "b31099a8-24e7-4894-9f3b-d857fe0d6229",
   "metadata": {},
   "outputs": [],
   "source": [
    "from google.cloud import bigquery\n",
    "\n",
    "project = \"pypi-analysis-tda2\"  # Project ID inserted based on the query results selected to explore\n",
    "location = \"US\"  # Location inserted based on the query results selected to explore\n",
    "\n",
    "client = bigquery.Client(project=project, credentials=credentials, location=location)"
   ]
  },
  {
   "cell_type": "markdown",
   "id": "75e53125-6d41-4ead-9a4d-914c44bfb162",
   "metadata": {},
   "source": [
    "# Config"
   ]
  },
  {
   "cell_type": "code",
   "execution_count": null,
   "id": "b2de0944-607c-44ca-a4a7-6cde34ab270d",
   "metadata": {},
   "outputs": [],
   "source": [
    "DAYS = 30"
   ]
  },
  {
   "cell_type": "markdown",
   "id": "66890d53-1ee2-41f8-94bf-d83a93c86de6",
   "metadata": {},
   "source": [
    "# Most downloaded files"
   ]
  },
  {
   "cell_type": "code",
   "execution_count": null,
   "id": "a5cd43c7-daf5-4be8-80f5-20356930a505",
   "metadata": {},
   "outputs": [],
   "source": [
    "query_job = client.query(\n",
    "    f\"\"\"\n",
    "SELECT \n",
    "  file.project as project,\n",
    "  file.version as version,\n",
    "  DATE(timestamp) as date,\n",
    "  COUNT(*) as num_downloads\n",
    "FROM `bigquery-public-data.pypi.file_downloads`\n",
    "WHERE\n",
    "  -- avoid bandersnatch and other mirrors\n",
    "  details.installer.name = 'pip'\n",
    "  -- use the oldest alive version\n",
    "  AND details.python LIKE '3.8.%'\n",
    "  -- use only cpython\n",
    "  AND details.implementation.name = 'CPython'\n",
    "  -- Only linux\n",
    "  AND details.system.name = 'Linux'\n",
    "  -- Only query the last N days of history\n",
    "  AND DATE(timestamp)\n",
    "    BETWEEN DATE_SUB(CURRENT_DATE(), INTERVAL {DAYS} DAY)\n",
    "    AND CURRENT_DATE()\n",
    "GROUP BY 1, 2, 3\n",
    "ORDER BY 1 ASC, 2 ASC, 3 ASC\n",
    "\"\"\"\n",
    ")\n",
    "\n",
    "results = query_job.to_dataframe(progress_bar_type=\"tqdm\")\n",
    "results.to_parquet(f\"file_downloads__30d__{date.today():%Y%m%d}.parquet\")"
   ]
  },
  {
   "cell_type": "markdown",
   "id": "ef2ed4b9-7b77-4df4-8b2b-a511e5bf4db9",
   "metadata": {},
   "source": [
    "# Most requested packages"
   ]
  },
  {
   "cell_type": "code",
   "execution_count": null,
   "id": "9cd8b8dd-9575-4fb1-91c5-5ec4bdb3846f",
   "metadata": {},
   "outputs": [],
   "source": [
    "query_job = client.query(\n",
    "    f\"\"\"\n",
    "SELECT \n",
    "  project,\n",
    "  DATE(timestamp) as date,\n",
    "  COUNT(*) as num_requests\n",
    "FROM `bigquery-public-data.pypi.simple_requests`\n",
    "WHERE\n",
    "  -- avoid bandersnatch and the likes\n",
    "  details.installer.name = 'pip'\n",
    "  -- use the oldest alive version\n",
    "  AND details.python LIKE '3.8%'\n",
    "  -- use only cpython\n",
    "  AND details.implementation.name = 'CPython'\n",
    "  -- Only linux\n",
    "  AND details.system.name = 'Linux'\n",
    "  -- Only query the last N days of history\n",
    "  AND DATE(timestamp)\n",
    "    BETWEEN DATE_SUB(CURRENT_DATE(), INTERVAL {DAYS} DAY)\n",
    "    AND CURRENT_DATE()\n",
    "GROUP BY 1, 2\n",
    "ORDER BY 1 ASC, 2 ASC\n",
    "\"\"\"\n",
    ")\n",
    "\n",
    "results = query_job.to_dataframe(progress_bar_type=\"tqdm\")\n",
    "results.to_parquet(f\"simple_requests__30d__{date.today():%Y%m%d}.parquet\")"
   ]
  },
  {
   "cell_type": "markdown",
   "id": "a64ffe2b-0fd6-441e-8392-d6f17a12e946",
   "metadata": {},
   "source": [
    "# Metadata"
   ]
  },
  {
   "cell_type": "code",
   "execution_count": null,
   "id": "17efd8dd-c0c1-47a0-8d13-3165e78a6f12",
   "metadata": {},
   "outputs": [],
   "source": [
    "query_job = client.query(\n",
    "    \"\"\"\n",
    "select \n",
    "  name,\n",
    "  version,\n",
    "  platform,\n",
    "  requires_python,\n",
    "  requires,\n",
    "  provides,\n",
    "  obsoletes,\n",
    "  requires_dist,\n",
    "  provides_dist,\n",
    "  obsoletes_dist,\n",
    "  requires_external,\n",
    "  upload_time,\n",
    "  filename,\n",
    "  python_version\n",
    "from `bigquery-public-data.pypi.distribution_metadata`\n",
    ";\n",
    "\"\"\"\n",
    ")"
   ]
  },
  {
   "cell_type": "code",
   "execution_count": null,
   "id": "7efea4d6-e4db-4d99-8869-a1bb41e58d4e",
   "metadata": {},
   "outputs": [],
   "source": [
    "results = query_job.to_dataframe(progress_bar_type=\"tqdm\")"
   ]
  },
  {
   "cell_type": "code",
   "execution_count": null,
   "id": "2e5557bf-6ce4-41e0-a6cd-06a6a61d7d11",
   "metadata": {},
   "outputs": [],
   "source": [
    "results.to_parquet(f\"metadata__{date.today():%Y%m%d}.parquet\")"
   ]
  }
 ],
 "metadata": {
  "kernelspec": {
   "display_name": "Python 3 (ipykernel)",
   "language": "python",
   "name": "python3"
  },
  "language_info": {
   "codemirror_mode": {
    "name": "ipython",
    "version": 3
   },
   "file_extension": ".py",
   "mimetype": "text/x-python",
   "name": "python",
   "nbconvert_exporter": "python",
   "pygments_lexer": "ipython3",
   "version": "3.8.16"
  },
  "widgets": {
   "application/vnd.jupyter.widget-state+json": {
    "state": {},
    "version_major": 2,
    "version_minor": 0
   }
  }
 },
 "nbformat": 4,
 "nbformat_minor": 5
}
